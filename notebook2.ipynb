{
 "cells": [
  {
   "cell_type": "code",
   "execution_count": 1,
   "id": "3b89a57f",
   "metadata": {},
   "outputs": [],
   "source": [
    "import tarfile"
   ]
  },
  {
   "cell_type": "code",
   "execution_count": 5,
   "id": "815e42b7",
   "metadata": {},
   "outputs": [
    {
     "name": "stdout",
     "output_type": "stream",
     "text": [
      "Extraction completed.\n"
     ]
    }
   ],
   "source": [
    "# Path to your tar file\n",
    "tar_path = 'Data/Yelp-Photos/Yelp Photos/yelp_photos.tar'\n",
    "\n",
    "# Directory to extract to\n",
    "extract_path = 'Data/Yelp-Photos/Yelp Photos/Extracted/'\n",
    "\n",
    "# Extracting\n",
    "with tarfile.open(tar_path, 'r') as tar:\n",
    "    tar.extractall(path=extract_path)\n",
    "\n",
    "print(\"Extraction completed.\")"
   ]
  }
 ],
 "metadata": {
  "kernelspec": {
   "display_name": "Python 3",
   "language": "python",
   "name": "python3"
  },
  "language_info": {
   "codemirror_mode": {
    "name": "ipython",
    "version": 3
   },
   "file_extension": ".py",
   "mimetype": "text/x-python",
   "name": "python",
   "nbconvert_exporter": "python",
   "pygments_lexer": "ipython3",
   "version": "3.10.0"
  }
 },
 "nbformat": 4,
 "nbformat_minor": 5
}
